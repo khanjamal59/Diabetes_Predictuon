{
 "cells": [
  {
   "cell_type": "code",
   "execution_count": null,
   "id": "f4a9fc71-4c1f-4620-ba19-f3f884249a37",
   "metadata": {},
   "outputs": [],
   "source": [
    "import pandas as pd\n",
    "data=pd.read_csv(\"diabetes.csv\")\n",
    "data"
   ]
  },
  {
   "cell_type": "code",
   "execution_count": null,
   "id": "cecee3a3-8b04-4590-84ec-c9eacad3aebb",
   "metadata": {},
   "outputs": [],
   "source": [
    "data.head(5)"
   ]
  },
  {
   "cell_type": "code",
   "execution_count": null,
   "id": "b7e9bbf0-a3cb-4e67-8769-962f337dbfcc",
   "metadata": {},
   "outputs": [],
   "source": [
    "data.info()"
   ]
  },
  {
   "cell_type": "code",
   "execution_count": null,
   "id": "0eeab033-b15f-4b4f-ba6e-3e2be685db36",
   "metadata": {},
   "outputs": [],
   "source": [
    "data.describe()"
   ]
  },
  {
   "cell_type": "code",
   "execution_count": null,
   "id": "9c1b85f7-e46c-4d97-97d4-583f83c33676",
   "metadata": {},
   "outputs": [],
   "source": [
    "from sklearn.preprocessing import StandardScaler\n",
    "from sklearn.model_selection import train_test_split\n",
    "from sklearn import svm\n",
    "from sklearn.svm import SVC\n",
    "from sklearn.metrics import accuracy_score,classification_report, confusion_matrix\n",
    "import numpy as np"
   ]
  },
  {
   "cell_type": "code",
   "execution_count": null,
   "id": "4fe6caaa-91aa-4bce-9e73-560ac1564a67",
   "metadata": {},
   "outputs": [],
   "source": [
    "data['Outcome'].value_counts()"
   ]
  },
  {
   "cell_type": "code",
   "execution_count": null,
   "id": "cf369c8c-afd7-400e-97cc-89f1f8ac5fcb",
   "metadata": {},
   "outputs": [],
   "source": [
    "data.groupby('Outcome').mean()"
   ]
  },
  {
   "cell_type": "markdown",
   "id": "bdb69304-486d-48ca-a6a2-585a8f2ad70f",
   "metadata": {},
   "source": [
    "# seperating the data"
   ]
  },
  {
   "cell_type": "code",
   "execution_count": null,
   "id": "22e1a6c4-ff75-4e1b-870b-c8b600481886",
   "metadata": {},
   "outputs": [],
   "source": [
    "X=data.drop(columns='Outcome',axis=1)\n",
    "Y=data['Outcome']"
   ]
  },
  {
   "cell_type": "code",
   "execution_count": null,
   "id": "0c6a0432-dc90-4724-ad60-29fccc801cff",
   "metadata": {},
   "outputs": [],
   "source": [
    "print(X)"
   ]
  },
  {
   "cell_type": "code",
   "execution_count": null,
   "id": "c84c13b7-e1da-407b-bc48-d66f155157bb",
   "metadata": {},
   "outputs": [],
   "source": [
    "print(Y)"
   ]
  },
  {
   "cell_type": "markdown",
   "id": "3f218505-abcb-4d85-a50d-229c12c226be",
   "metadata": {},
   "source": [
    "# Data Standaraization"
   ]
  },
  {
   "cell_type": "code",
   "execution_count": null,
   "id": "ef840f2b-9c28-44d4-a50a-1e6d9a481c2a",
   "metadata": {},
   "outputs": [],
   "source": [
    "scaler=StandardScaler()"
   ]
  },
  {
   "cell_type": "code",
   "execution_count": null,
   "id": "3f4a4d51-2bba-4540-ae87-97173087d545",
   "metadata": {},
   "outputs": [],
   "source": [
    "scaler.fit(X)"
   ]
  },
  {
   "cell_type": "code",
   "execution_count": null,
   "id": "9ac88163-ad4a-4f7d-b964-3d60683a8e8b",
   "metadata": {},
   "outputs": [],
   "source": [
    "standarized_data=scaler.transform(X)"
   ]
  },
  {
   "cell_type": "code",
   "execution_count": null,
   "id": "a9c32414-1a50-4949-9a59-39676813c9af",
   "metadata": {},
   "outputs": [],
   "source": [
    "print(standarized_data)"
   ]
  },
  {
   "cell_type": "code",
   "execution_count": null,
   "id": "254ba688-f710-4427-8efa-27337798646c",
   "metadata": {},
   "outputs": [],
   "source": [
    "X=standarized_data\n",
    "Y=data[\"Outcome\"]"
   ]
  },
  {
   "cell_type": "code",
   "execution_count": null,
   "id": "ef508476-fa43-417f-a439-660084cf819f",
   "metadata": {},
   "outputs": [],
   "source": [
    "print(X)\n",
    "print(Y)"
   ]
  },
  {
   "cell_type": "code",
   "execution_count": null,
   "id": "6ce824ac-b670-4c9e-be4d-f4ed3264d756",
   "metadata": {},
   "outputs": [],
   "source": [
    "x_train,x_test,y_train,y_test=train_test_split(X,Y,test_size=0.2,stratify=Y,random_state=2)"
   ]
  },
  {
   "cell_type": "code",
   "execution_count": null,
   "id": "7a4e5c89-1c4e-4b5e-8244-b0257d7c940e",
   "metadata": {},
   "outputs": [],
   "source": [
    "print(X.shape,x_train.shape,x_test.shape)"
   ]
  },
  {
   "cell_type": "markdown",
   "id": "4d437895-bdcf-424e-8d90-ff4b0a35c002",
   "metadata": {},
   "source": [
    "# Training the model"
   ]
  },
  {
   "cell_type": "code",
   "execution_count": null,
   "id": "1b12c523-1bd5-403f-a266-1ed0f6c8e8eb",
   "metadata": {},
   "outputs": [],
   "source": [
    "classifier = svm.SVC(kernel='linear')"
   ]
  },
  {
   "cell_type": "code",
   "execution_count": null,
   "id": "e2d2e202-2006-4d4f-8b5c-b1cd646e2ee9",
   "metadata": {},
   "outputs": [],
   "source": [
    "classifier.fit(x_train,y_train)"
   ]
  },
  {
   "cell_type": "markdown",
   "id": "49349521-8c26-42f3-9010-5f4728eec06c",
   "metadata": {},
   "source": [
    "# Evaluation of Model"
   ]
  },
  {
   "cell_type": "code",
   "execution_count": null,
   "id": "f22ed9df-e159-460e-9e2f-3e592f485376",
   "metadata": {},
   "outputs": [],
   "source": [
    "#accuracy score\n",
    "x_train_prediction=classifier.predict(x_train)\n",
    "training_data_accuracy=accuracy_score(x_train_prediction,y_train)\n",
    "\n"
   ]
  },
  {
   "cell_type": "code",
   "execution_count": null,
   "id": "065d0cae-bdf6-4c69-bac6-b612c62394e9",
   "metadata": {},
   "outputs": [],
   "source": [
    "\n",
    "print('Accuracy score of the training data:',training_data_accuracy)"
   ]
  },
  {
   "cell_type": "code",
   "execution_count": null,
   "id": "fe5ce5c5-aa87-4c59-8b14-872f6214780d",
   "metadata": {},
   "outputs": [],
   "source": [
    "x_test_prediction=classifier.predict(x_test)\n",
    "testing_data_accuracy=accuracy_score(x_test_prediction,y_test)\n",
    "print('Accuracy score of the testing data:',testing_data_accuracy)"
   ]
  },
  {
   "cell_type": "markdown",
   "id": "e45189bc-727c-42fb-869a-635e2b56fb51",
   "metadata": {},
   "source": [
    "# making a predictive system"
   ]
  },
  {
   "cell_type": "code",
   "execution_count": null,
   "id": "e7835e78-2adc-435d-bfa1-f0db2c0a7637",
   "metadata": {},
   "outputs": [],
   "source": [
    "# # input_data=(4,110,92,0,0,37.6,0.191,30)# answer is non diabetis i.e.[0]\n",
    "# input_data=(0,137,40,35,168,43.1,2.288,33)\n",
    "# input_data_as_numpyarr=np.asarray(input_data)\n",
    "# #reshaping the array\n",
    "# input_data_reshape=input_data_as_numpyarr.reshape(1,-1)\n",
    "# #standarize the input data\n",
    "# std_data=scaler.transform(input_data_reshape)\n",
    "# print(std_data)\n",
    "# prediction=classifier.predict(std_data)\n",
    "# print(prediction)\n",
    "# if(prediction[0]==0):\n",
    "#     print(\"Non Diabetic\")\n",
    "# else:\n",
    "#     print(\"Diabetic\")\n"
   ]
  },
  {
   "cell_type": "code",
   "execution_count": null,
   "id": "f0c8aa04-7d7e-4710-83e7-e7b70a0ae474",
   "metadata": {},
   "outputs": [],
   "source": [
    "preg=int(input(\"Enter the values for number of pregnencies:\"))\n",
    "glu=float(input(\"Enter the values for Glucose level:\"))\n",
    "Bp=float(input(\"Enter the values for Blood Pressure:\"))\n",
    "Skin=float(input(\"Enter the values for Skin thickness:\"))\n",
    "Insulin=float(input(\"Enter the values for Insulin level:\"))\n",
    "Bmi=float(input(\"Enter the values for number of BMI:\"))\n",
    "diapefunction=float(input(\"Enter the values for DiabetesPedigreeFunction:\"))\n",
    "Age=int(input(\"Enter the values for Age:\"))\n",
    "input_data=(preg,glu,Bp,Skin,Insulin,Bmi,diapefunction,Age)\n",
    "input_data_as_numpyarr=np.asarray(input_data)\n",
    "#reshaping the array\n",
    "input_data_reshape=input_data_as_numpyarr.reshape(1,-1)\n",
    "#standarize the input data\n",
    "std_data=scaler.transform(input_data_reshape)\n",
    "print(std_data)\n",
    "prediction=classifier.predict(std_data)\n",
    "print(prediction)\n",
    "if(prediction[0]==0):\n",
    "    print(\"Non Diabetic\")\n",
    "else:\n",
    "    print(\"Diabetic\")\n"
   ]
  },
  {
   "cell_type": "code",
   "execution_count": null,
   "id": "d5dc51c4-e463-4082-ac35-35b584876f12",
   "metadata": {},
   "outputs": [],
   "source": []
  }
 ],
 "metadata": {
  "kernelspec": {
   "display_name": "Python 3 (ipykernel)",
   "language": "python",
   "name": "python3"
  },
  "language_info": {
   "codemirror_mode": {
    "name": "ipython",
    "version": 3
   },
   "file_extension": ".py",
   "mimetype": "text/x-python",
   "name": "python",
   "nbconvert_exporter": "python",
   "pygments_lexer": "ipython3",
   "version": "3.11.8"
  }
 },
 "nbformat": 4,
 "nbformat_minor": 5
}
